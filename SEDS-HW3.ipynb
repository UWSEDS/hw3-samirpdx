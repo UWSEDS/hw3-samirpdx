{
 "cells": [
  {
   "cell_type": "markdown",
   "metadata": {
    "deletable": true,
    "editable": true
   },
   "source": [
    "# HW3\n",
    "\n",
    "### Samir Patel\n",
    "### DATA 515a\n",
    "### 4/20/2017\n"
   ]
  },
  {
   "cell_type": "markdown",
   "metadata": {
    "deletable": true,
    "editable": true
   },
   "source": [
    "For this homework, you are a data scientist working for Pronto (before the end of their contract with the City of Seattle). Your job is to assist in determining how to do end-of-day adjustments in the number of bikes at stations so that all stations will have enough bikes for the next day of operation (as estimated by the weekday average for the station for the year). Your assistance will help in constructing a plan for each day of the week that specifies how many bikes should be moved from each station and how many bikes must be delievered to each station.\n",
    "\n",
    "Your assignment is to construct plots of the differences between 'from' and 'to' counts for each station by day of the week. Do this as a set of 7 subplots. You should use at least one function to construct your plots.\n",
    "\n",
    "### Grading\n",
    "- 2-pts: create a dataframe with station counts averages by day-of-week\n",
    "- 1-pt: structure the 7 day-of-week plots as subplots\n",
    "- 1-pt: label the plots by day-of-week\n",
    "- 1-pt: label the x-axis for plots in the last row and label the y-axis for plots in the left-most column\n"
   ]
  },
  {
   "cell_type": "code",
   "execution_count": 1,
   "metadata": {
    "collapsed": false,
    "deletable": true,
    "editable": true
   },
   "outputs": [],
   "source": [
    "import pandas as pd\n",
    "import matplotlib.pyplot as plt\n",
    "%matplotlib inline\n",
    "import numpy as np"
   ]
  },
  {
   "cell_type": "code",
   "execution_count": 2,
   "metadata": {
    "collapsed": false,
    "deletable": true,
    "editable": true
   },
   "outputs": [],
   "source": [
    "df = pd.read_csv(\"2015_trip_data.csv\")"
   ]
  },
  {
   "cell_type": "markdown",
   "metadata": {
    "deletable": true,
    "editable": true
   },
   "source": [
    "Obtaining day of the week for start_weekday and stop_weekday columns using Pandas \"to_datetime\" function.  \n",
    "Obtaining date (sans time) using Pandas \"to_datetime\" function.\n",
    "\n",
    "Then adding to dataframe."
   ]
  },
  {
   "cell_type": "code",
   "execution_count": 3,
   "metadata": {
    "collapsed": false,
    "deletable": true,
    "editable": true
   },
   "outputs": [],
   "source": [
    "start_weekday = [pd.to_datetime(x).dayofweek for x in df.starttime]\n",
    "stop_weekday = [pd.to_datetime(x).dayofweek for x in df.stoptime]"
   ]
  },
  {
   "cell_type": "code",
   "execution_count": 4,
   "metadata": {
    "collapsed": false,
    "deletable": true,
    "editable": true
   },
   "outputs": [],
   "source": [
    "df['startweekday'] = start_weekday  # Creates a new column named 'startday'\n",
    "df['stopweekday'] = stop_weekday"
   ]
  },
  {
   "cell_type": "code",
   "execution_count": 5,
   "metadata": {
    "collapsed": false,
    "deletable": true,
    "editable": true
   },
   "outputs": [],
   "source": [
    "startdate =  pd.DatetimeIndex(df['starttime'])\n",
    "df['date'] = startdate.date"
   ]
  },
  {
   "cell_type": "markdown",
   "metadata": {
    "deletable": true,
    "editable": true
   },
   "source": [
    "Taking new date column, removing duplicate dates and then grouping to determine the unique counts of each of the 7 weekdays (i.e. how many days of the week occurred in the dataset)"
   ]
  },
  {
   "cell_type": "code",
   "execution_count": 6,
   "metadata": {
    "collapsed": false,
    "deletable": true,
    "editable": true
   },
   "outputs": [],
   "source": [
    "t1 = startdate.date\n",
    "t2 = pd.DataFrame(t1)\n",
    "t3 = t2.drop_duplicates()\n",
    "t4 =  pd.DatetimeIndex(t3[0])\n",
    "t5 = pd.DataFrame(t4.dayofweek)"
   ]
  },
  {
   "cell_type": "code",
   "execution_count": 7,
   "metadata": {
    "collapsed": false,
    "deletable": true,
    "editable": true
   },
   "outputs": [],
   "source": [
    "day_counts = pd.value_counts(t5[0]).sort_index()\n",
    "groupby_day_from = df.groupby(['from_station_id', 'startweekday']).size()\n",
    "groupby_day_to = df.groupby(['to_station_id', 'stopweekday']).size()\n",
    "df_counts = pd.DataFrame({'From': groupby_day_from, 'To': groupby_day_to})"
   ]
  },
  {
   "cell_type": "markdown",
   "metadata": {
    "deletable": true,
    "editable": true
   },
   "source": [
    "Calculating average counts (\"From\", \"To\" and \"To-From\" (delta)) and adding into a dataframe with new headers."
   ]
  },
  {
   "cell_type": "code",
   "execution_count": 8,
   "metadata": {
    "collapsed": false,
    "deletable": true,
    "editable": true
   },
   "outputs": [],
   "source": [
    "dict_fromavg = {}\n",
    "dict_toavg = {}\n",
    "dict_deltaavg = {}\n",
    "\n",
    "for station in df_counts.index.levels[0]:\n",
    "    dict_fromavg[station] = df_counts.From[station]/day_counts\n",
    "    dict_toavg[station] = df_counts.To[station]/day_counts\n",
    "    dict_deltaavg[station] = (df_counts.To[station]- df_counts.From[station])/day_counts"
   ]
  },
  {
   "cell_type": "code",
   "execution_count": 9,
   "metadata": {
    "collapsed": false,
    "deletable": true,
    "editable": true,
    "scrolled": false
   },
   "outputs": [],
   "source": [
    "from_avg = pd.DataFrame(dict_fromavg)\n",
    "from_avg = pd.DataFrame(from_avg.unstack())\n",
    "\n",
    "to_avg = pd.DataFrame(dict_toavg)\n",
    "to_avg = pd.DataFrame(to_avg.unstack())\n",
    "\n",
    "delta_avg = pd.DataFrame(dict_deltaavg)\n",
    "delta_avg = pd.DataFrame(delta_avg.unstack())"
   ]
  },
  {
   "cell_type": "code",
   "execution_count": 10,
   "metadata": {
    "collapsed": false,
    "deletable": true,
    "editable": true
   },
   "outputs": [],
   "source": [
    "df_counts = df_counts.join(from_avg)\n",
    "df_counts.columns.values[2] = 'From_Counts_Avg'\n",
    "df_counts = df_counts.join(to_avg)\n",
    "df_counts.columns.values[3] = 'To_Counts_Avg'\n",
    "df_counts = df_counts.join(delta_avg)\n",
    "df_counts.columns.values[4] = 'Delta_Avg'\n",
    "df_counts2 = df_counts.unstack()\n",
    "df_counts2 = df_counts2[df_counts2.index != 'Pronto shop']"
   ]
  },
  {
   "cell_type": "markdown",
   "metadata": {},
   "source": [
    "Dataframe below contains station counts by day-of-week for station for bikes \"From\" and \"To\" a station.\n",
    "\n",
    "In addition, it contains \"From\", \"To\" and \"Delta_Avg\" averages for each day-of-week."
   ]
  },
  {
   "cell_type": "code",
   "execution_count": 17,
   "metadata": {
    "collapsed": false
   },
   "outputs": [
    {
     "data": {
      "text/html": [
       "<div>\n",
       "<table border=\"1\" class=\"dataframe\">\n",
       "  <thead>\n",
       "    <tr>\n",
       "      <th></th>\n",
       "      <th colspan=\"7\" halign=\"left\">From</th>\n",
       "      <th colspan=\"3\" halign=\"left\">To</th>\n",
       "      <th>...</th>\n",
       "      <th colspan=\"3\" halign=\"left\">To_Counts_Avg</th>\n",
       "      <th colspan=\"7\" halign=\"left\">Delta_Avg</th>\n",
       "    </tr>\n",
       "    <tr>\n",
       "      <th></th>\n",
       "      <th>0</th>\n",
       "      <th>1</th>\n",
       "      <th>2</th>\n",
       "      <th>3</th>\n",
       "      <th>4</th>\n",
       "      <th>5</th>\n",
       "      <th>6</th>\n",
       "      <th>0</th>\n",
       "      <th>1</th>\n",
       "      <th>2</th>\n",
       "      <th>...</th>\n",
       "      <th>4</th>\n",
       "      <th>5</th>\n",
       "      <th>6</th>\n",
       "      <th>0</th>\n",
       "      <th>1</th>\n",
       "      <th>2</th>\n",
       "      <th>3</th>\n",
       "      <th>4</th>\n",
       "      <th>5</th>\n",
       "      <th>6</th>\n",
       "    </tr>\n",
       "  </thead>\n",
       "  <tbody>\n",
       "    <tr>\n",
       "      <th>BT-01</th>\n",
       "      <td>806.0</td>\n",
       "      <td>724.0</td>\n",
       "      <td>679.0</td>\n",
       "      <td>801.0</td>\n",
       "      <td>921.0</td>\n",
       "      <td>1148.0</td>\n",
       "      <td>806.0</td>\n",
       "      <td>791.0</td>\n",
       "      <td>675.0</td>\n",
       "      <td>696.0</td>\n",
       "      <td>...</td>\n",
       "      <td>16.403846</td>\n",
       "      <td>21.942308</td>\n",
       "      <td>16.403846</td>\n",
       "      <td>-0.283019</td>\n",
       "      <td>-0.942308</td>\n",
       "      <td>0.326923</td>\n",
       "      <td>-0.192308</td>\n",
       "      <td>-1.307692</td>\n",
       "      <td>-0.134615</td>\n",
       "      <td>0.903846</td>\n",
       "    </tr>\n",
       "    <tr>\n",
       "      <th>BT-03</th>\n",
       "      <td>577.0</td>\n",
       "      <td>594.0</td>\n",
       "      <td>620.0</td>\n",
       "      <td>606.0</td>\n",
       "      <td>657.0</td>\n",
       "      <td>597.0</td>\n",
       "      <td>548.0</td>\n",
       "      <td>534.0</td>\n",
       "      <td>513.0</td>\n",
       "      <td>525.0</td>\n",
       "      <td>...</td>\n",
       "      <td>9.057692</td>\n",
       "      <td>8.250000</td>\n",
       "      <td>8.942308</td>\n",
       "      <td>-0.811321</td>\n",
       "      <td>-1.557692</td>\n",
       "      <td>-1.826923</td>\n",
       "      <td>-3.019231</td>\n",
       "      <td>-3.576923</td>\n",
       "      <td>-3.230769</td>\n",
       "      <td>-1.596154</td>\n",
       "    </tr>\n",
       "    <tr>\n",
       "      <th>BT-04</th>\n",
       "      <td>387.0</td>\n",
       "      <td>351.0</td>\n",
       "      <td>342.0</td>\n",
       "      <td>370.0</td>\n",
       "      <td>343.0</td>\n",
       "      <td>222.0</td>\n",
       "      <td>206.0</td>\n",
       "      <td>328.0</td>\n",
       "      <td>292.0</td>\n",
       "      <td>298.0</td>\n",
       "      <td>...</td>\n",
       "      <td>5.307692</td>\n",
       "      <td>3.884615</td>\n",
       "      <td>3.326923</td>\n",
       "      <td>-1.113208</td>\n",
       "      <td>-1.134615</td>\n",
       "      <td>-0.846154</td>\n",
       "      <td>-1.596154</td>\n",
       "      <td>-1.288462</td>\n",
       "      <td>-0.384615</td>\n",
       "      <td>-0.634615</td>\n",
       "    </tr>\n",
       "    <tr>\n",
       "      <th>BT-05</th>\n",
       "      <td>500.0</td>\n",
       "      <td>491.0</td>\n",
       "      <td>462.0</td>\n",
       "      <td>496.0</td>\n",
       "      <td>516.0</td>\n",
       "      <td>505.0</td>\n",
       "      <td>398.0</td>\n",
       "      <td>507.0</td>\n",
       "      <td>501.0</td>\n",
       "      <td>489.0</td>\n",
       "      <td>...</td>\n",
       "      <td>9.576923</td>\n",
       "      <td>9.692308</td>\n",
       "      <td>7.884615</td>\n",
       "      <td>0.132075</td>\n",
       "      <td>0.192308</td>\n",
       "      <td>0.519231</td>\n",
       "      <td>1.038462</td>\n",
       "      <td>-0.346154</td>\n",
       "      <td>-0.019231</td>\n",
       "      <td>0.230769</td>\n",
       "    </tr>\n",
       "    <tr>\n",
       "      <th>CBD-03</th>\n",
       "      <td>467.0</td>\n",
       "      <td>453.0</td>\n",
       "      <td>443.0</td>\n",
       "      <td>476.0</td>\n",
       "      <td>465.0</td>\n",
       "      <td>309.0</td>\n",
       "      <td>361.0</td>\n",
       "      <td>623.0</td>\n",
       "      <td>596.0</td>\n",
       "      <td>617.0</td>\n",
       "      <td>...</td>\n",
       "      <td>12.288462</td>\n",
       "      <td>8.615385</td>\n",
       "      <td>8.192308</td>\n",
       "      <td>2.943396</td>\n",
       "      <td>2.750000</td>\n",
       "      <td>3.346154</td>\n",
       "      <td>2.576923</td>\n",
       "      <td>3.346154</td>\n",
       "      <td>2.673077</td>\n",
       "      <td>1.250000</td>\n",
       "    </tr>\n",
       "  </tbody>\n",
       "</table>\n",
       "<p>5 rows × 35 columns</p>\n",
       "</div>"
      ],
      "text/plain": [
       "         From                                                To                \\\n",
       "            0      1      2      3      4       5      6      0      1      2   \n",
       "BT-01   806.0  724.0  679.0  801.0  921.0  1148.0  806.0  791.0  675.0  696.0   \n",
       "BT-03   577.0  594.0  620.0  606.0  657.0   597.0  548.0  534.0  513.0  525.0   \n",
       "BT-04   387.0  351.0  342.0  370.0  343.0   222.0  206.0  328.0  292.0  298.0   \n",
       "BT-05   500.0  491.0  462.0  496.0  516.0   505.0  398.0  507.0  501.0  489.0   \n",
       "CBD-03  467.0  453.0  443.0  476.0  465.0   309.0  361.0  623.0  596.0  617.0   \n",
       "\n",
       "          ...    To_Counts_Avg                       Delta_Avg            \\\n",
       "          ...                4          5          6         0         1   \n",
       "BT-01     ...        16.403846  21.942308  16.403846 -0.283019 -0.942308   \n",
       "BT-03     ...         9.057692   8.250000   8.942308 -0.811321 -1.557692   \n",
       "BT-04     ...         5.307692   3.884615   3.326923 -1.113208 -1.134615   \n",
       "BT-05     ...         9.576923   9.692308   7.884615  0.132075  0.192308   \n",
       "CBD-03    ...        12.288462   8.615385   8.192308  2.943396  2.750000   \n",
       "\n",
       "                                                          \n",
       "               2         3         4         5         6  \n",
       "BT-01   0.326923 -0.192308 -1.307692 -0.134615  0.903846  \n",
       "BT-03  -1.826923 -3.019231 -3.576923 -3.230769 -1.596154  \n",
       "BT-04  -0.846154 -1.596154 -1.288462 -0.384615 -0.634615  \n",
       "BT-05   0.519231  1.038462 -0.346154 -0.019231  0.230769  \n",
       "CBD-03  3.346154  2.576923  3.346154  2.673077  1.250000  \n",
       "\n",
       "[5 rows x 35 columns]"
      ]
     },
     "execution_count": 17,
     "metadata": {},
     "output_type": "execute_result"
    }
   ],
   "source": [
    "df_counts2.head()"
   ]
  },
  {
   "cell_type": "markdown",
   "metadata": {
    "deletable": true,
    "editable": true
   },
   "source": [
    "Adding plot_bar1 function for single plot creation (given inputs of dataframe, columns to plot and plotting options)"
   ]
  },
  {
   "cell_type": "code",
   "execution_count": 105,
   "metadata": {
    "collapsed": true,
    "deletable": true,
    "editable": true
   },
   "outputs": [],
   "source": [
    "def plot_bar1(df, column, opts):\n",
    "    \"\"\"\n",
    "    Does a bar plot for a single column.\n",
    "    :param pd.DataFrame df:\n",
    "    :param str column: name of the column to plot\n",
    "    :param dict opts: key is plot attribute\n",
    "    \"\"\"\n",
    "    n_groups = len(df.index)\n",
    "    index = np.arange(n_groups)  # The \"raw\" x-axis of the bar plot\n",
    "    rects1 = plt.bar(index, df[column])\n",
    "    if 'xlabel' in opts:\n",
    "      plt.xlabel(opts['xlabel'])\n",
    "    if 'ylabel' in opts:\n",
    "      plt.ylabel(opts['ylabel'])\n",
    "    if 'xticks' in opts and opts['xticks']:\n",
    "      plt.xticks(index, df.index)  # Convert \"raw\" x-axis into labels\n",
    "      _, labels = plt.xticks()  # Get the new labels of the plot\n",
    "      plt.setp(labels, rotation=90)  # Rotate labels to make them readable\n",
    "    else:\n",
    "      labels = ['' for x in df.index]\n",
    "      plt.xticks(index, labels)   \n",
    "    if 'ylim' in opts:\n",
    "      plt.ylim(opts['ylim'])\n",
    "    if 'title' in opts:\n",
    "      plt.title(opts['title'])"
   ]
  },
  {
   "cell_type": "markdown",
   "metadata": {
    "deletable": true,
    "editable": true
   },
   "source": [
    "Adding plot_barN function for creating subplots."
   ]
  },
  {
   "cell_type": "code",
   "execution_count": 106,
   "metadata": {
    "collapsed": true,
    "deletable": true,
    "editable": true
   },
   "outputs": [],
   "source": [
    "def plot_barN(df, columns, opts):\n",
    "    \"\"\"\n",
    "    Does a bar plot for a single column.\n",
    "    :param pd.DataFrame df:\n",
    "    :param list-of-str columns: names of the column to plot\n",
    "    :param dict opts: key is plot attribute\n",
    "    \"\"\"\n",
    "    num_columns = len(columns)\n",
    "    local_opts = dict(opts)  # Make a deep copy of the object\n",
    "    idx = 0\n",
    "    for column in columns:\n",
    "        idx += 1\n",
    "        local_opts['xticks'] = False\n",
    "        local_opts['xlabel'] = ''\n",
    "        if idx == num_columns:\n",
    "          local_opts['xticks'] = True\n",
    "          local_opts['xlabel'] = opts['xlabel']\n",
    "        plt.subplot(num_columns, 1, idx)\n",
    "        plot_bar1(df, column, local_opts)\n",
    "        local_opts['title'] = columns  #add title to opts at the end of loop\n",
    "        plt.title(opts['title'][idx-1]) #add title to each subplot\n"
   ]
  },
  {
   "cell_type": "markdown",
   "metadata": {
    "deletable": true,
    "editable": true
   },
   "source": [
    "Creating subplots for the average difference of bike counts \"To\" a station minus \"From\" a station\" for each day of the week."
   ]
  },
  {
   "cell_type": "code",
   "execution_count": 107,
   "metadata": {
    "collapsed": false,
    "deletable": true,
    "editable": true,
    "scrolled": false
   },
   "outputs": [
    {
     "data": {
      "image/png": "[encoded data removed]",
      "text/plain": [
       "<matplotlib.figure.Figure at 0x1815e403898>"
      ]
     },
     "metadata": {},
     "output_type": "display_data"
    }
   ],
   "source": [
    "fig = plt.figure(figsize=(20, 40))  # Controls global properties of the bar plot\n",
    "opts = {'xlabel': 'Stations', 'ylabel': 'From-To Delta Counts', 'ylim': [-15, 15], 'title': ['Sunday', 'Monday', 'Tuesday', 'Wednesday', 'Thursday', 'Friday', 'Saturday']}\n",
    "plot_barN(df_counts2.Delta_Avg, [0,1,2,3,4,5,6], opts)"
   ]
  }
 ],
 "metadata": {
  "kernelspec": {
   "display_name": "Python 3",
   "language": "python",
   "name": "python3"
  },
  "language_info": {
   "codemirror_mode": {
    "name": "ipython",
    "version": 3
   },
   "file_extension": ".py",
   "mimetype": "text/x-python",
   "name": "python",
   "nbconvert_exporter": "python",
   "pygments_lexer": "ipython3",
   "version": "3.6.0"
  }
 },
 "nbformat": 4,
 "nbformat_minor": 2
}
